{
  "nbformat": 4,
  "nbformat_minor": 0,
  "metadata": {
    "colab": {
      "name": "SDM_ML_1.ipynb",
      "provenance": [],
      "collapsed_sections": []
    },
    "kernelspec": {
      "name": "python3",
      "display_name": "Python 3"
    }
  },
  "cells": [
    {
      "cell_type": "code",
      "metadata": {
        "id": "fD0Nfg9q3EF-"
      },
      "source": [
        "import matplotlib.pyplot as plt\n",
        "import random\n",
        "import time\n",
        "import numpy as np\n",
        "from sklearn import metrics\n",
        "from math import sqrt\n",
        "from sklearn.model_selection import train_test_split"
      ],
      "execution_count": 144,
      "outputs": []
    },
    {
      "cell_type": "code",
      "metadata": {
        "id": "aA22AQS_3kBl"
      },
      "source": [
        "def diffa(y, ypred,x):\n",
        "    return (y-ypred)*(-x)\n",
        "\n",
        "def diffb(y, ypred):\n",
        "    return (y-ypred)*(-1)\n",
        "\n",
        "def shuffle_data(x,y):\n",
        "    # shuffle x，y，while keeping x_i corresponding to y_i\n",
        "    seed = random.random()\n",
        "    random.seed(seed)\n",
        "    random.shuffle(x)\n",
        "    random.seed(seed)\n",
        "    random.shuffle(y)\n",
        "\n",
        "def get_batch_data(x, y, batch):\n",
        "    shuffle_data(x, y)\n",
        "    x_batch = x[0:batch]\n",
        "    y_batch = y[0:batch]\n",
        "    return [x_batch, y_batch]"
      ],
      "execution_count": 145,
      "outputs": []
    },
    {
      "cell_type": "code",
      "metadata": {
        "id": "hAWRVCfz3mFo",
        "outputId": "bf5a4dac-1704-4b66-af63-0b2a24849552",
        "colab": {
          "base_uri": "https://localhost:8080/"
        }
      },
      "source": [
        "data = np.loadtxt('LinearRegdata.txt')\n",
        "x = data[:, 1]\n",
        "y = data[:, 2]\n",
        "for i in range(0,5):\n",
        "  print(\"x[\",i,\"] = \",x[i],\",\",\"y[\",i,\"] = \",y[i])"
      ],
      "execution_count": 146,
      "outputs": [
        {
          "output_type": "stream",
          "text": [
            "x[ 0 ] =  0.067732 , y[ 0 ] =  3.176513\n",
            "x[ 1 ] =  0.42781 , y[ 1 ] =  3.816464\n",
            "x[ 2 ] =  0.995731 , y[ 2 ] =  4.550095\n",
            "x[ 3 ] =  0.738336 , y[ 3 ] =  4.256571\n",
            "x[ 4 ] =  0.981083 , y[ 4 ] =  4.560815\n"
          ],
          "name": "stdout"
        }
      ]
    },
    {
      "cell_type": "code",
      "metadata": {
        "id": "lo26Ztfh3oHd"
      },
      "source": [
        "# Normalize the data\n",
        "x_max = max(x)\n",
        "x_min = min(x)\n",
        "y_max = max(y)\n",
        "y_min = min(y)\n",
        "for i in range(0, len(x)):\n",
        "    x[i] = (x[i] - x_min)/(x_max - x_min)\n",
        "    y[i] = (y[i] - y_min)/(y_max - y_min)\n",
        "\n",
        "X_train, X_test, y_train, y_test = train_test_split(x, y, test_size=0.3,random_state=109)"
      ],
      "execution_count": 147,
      "outputs": []
    },
    {
      "cell_type": "code",
      "metadata": {
        "id": "uaKpwzng3rkT"
      },
      "source": [
        "def batch_gd(X_train, y_train, X_test, y_test):\n",
        "  a = 10.0\n",
        "  b = -20.0\n",
        "\n",
        "  all_bgdloss = []\n",
        "  all_ep = []\n",
        "\n",
        "  rate = 0.008\n",
        "  start = time.time()\n",
        "  for ep in range(1,100):\n",
        "    loss = 0\n",
        "    losst = 0\n",
        "    all_da = 0\n",
        "    all_db = 0\n",
        "    for i in range(0, len(X_train)):\n",
        "      y_pred = a*X_train[i] + b\n",
        "      loss = loss + (y_train[i] - y_pred)*(y_train[i] - y_pred)/2\n",
        "      all_da = all_da + diffa(y_train[i], y_pred, X_train[i]) #gradients accumulated\n",
        "      all_db = all_db + diffb(y_train[i], y_pred) #gradients accumulated\n",
        "\n",
        "    loss = loss/len(X_train)\n",
        "    all_bgdloss.append(loss)\n",
        "    all_ep.append(ep)\n",
        "\n",
        "    #parameters updated\n",
        "    a = a - rate * all_da\n",
        "    b = b - rate * all_db\n",
        "\n",
        "    for i in range(0, len(X_test)):\n",
        "      y_pred = a*X_test[i] + b\n",
        "      losst = losst + (y_test[i] - y_pred)*(y_test[i] - y_pred)/2\n",
        "\n",
        "    #Saving best parameters for final reporting on test set   \n",
        "    if ep==1:\n",
        "      prevloss = losst\n",
        "    else:\n",
        "      if losst<prevloss:\n",
        "        prevloss=losst\n",
        "        param1 = a\n",
        "        param2 = b\n",
        "  #Complete the function to obtain the plots and RMSE\n",
        "  plt.plot(all_bgdloss,all_ep)\n",
        "  batch_tr_loss=all_bgdloss\n",
        "  return sqrt(prevloss/len(X_test)),all_bgdloss,all_ep"
      ],
      "execution_count": 234,
      "outputs": []
    },
    {
      "cell_type": "code",
      "metadata": {
        "id": "2AP506fa6wpd"
      },
      "source": [
        "def create_mini_batches(X, y, minibatch_size):\n",
        "    minibatches = []\n",
        "\n",
        "    for i in range(0, X.shape[0], minibatch_size):\n",
        "        X_mini = X[i:i + minibatch_size]\n",
        "        y_mini = y[i:i + minibatch_size]\n",
        "\n",
        "        minibatches.append((X_mini, y_mini))\n",
        "\n",
        "    return minibatches "
      ],
      "execution_count": 235,
      "outputs": []
    },
    {
      "cell_type": "code",
      "metadata": {
        "id": "XcJ9nZI_7f1i"
      },
      "source": [
        "def minibatch_gd(X_train, y_train, X_test, y_test):\n",
        "  a = 10.0\n",
        "  b = -20.0\n",
        "\n",
        "  all_bgdloss = []\n",
        "  all_ep = []\n",
        "\n",
        "  rate = 0.02\n",
        "  start = time.time()\n",
        "  k = 1\n",
        "  for ep in range(1,100):\n",
        "    minibatches = create_mini_batches(X_train, y_train, 10)\n",
        "    floss=0\n",
        "    for minibatch in minibatches:\n",
        "      loss = 0\n",
        "      losst = 0\n",
        "      all_da = 0\n",
        "      all_db = 0\n",
        "      tx, yp = minibatch\n",
        "      if(len(tx)==0):\n",
        "        continue\n",
        "      for i in range(0, len(tx)):\n",
        "        y_pred = a*tx[i] + b\n",
        "        loss = loss + (yp[i] - y_pred)*(yp[i] - y_pred)/2\n",
        "        all_da = all_da + diffa(yp[i], y_pred, tx[i]) #gradients accumulated\n",
        "        all_db = all_db + diffb(yp[i], y_pred) #gradients accumulated\n",
        "      loss = loss/len(tx)\n",
        "      #parameters updated\n",
        "      a = a - rate * all_da\n",
        "      b = b - rate * all_db\n",
        "    for i in range(0, len(X_train)):\n",
        "      y_pred = a*X_train[i] + b\n",
        "      floss = floss + (y_train[i] - y_pred)*(y_train[i] - y_pred)/2\n",
        "    all_bgdloss.append(floss/len(X_train))\n",
        "    all_ep.append(ep)\n",
        "    for i in range(0, len(X_test)):\n",
        "      y_pred = a*X_test[i] + b\n",
        "      losst = losst + (y_test[i] - y_pred)*(y_test[i] - y_pred)/2\n",
        "\n",
        "    #Saving best parameters for final reporting on test set   \n",
        "    if ep==1:\n",
        "      prevloss = losst\n",
        "    else:\n",
        "      if losst<prevloss:\n",
        "        prevloss=losst\n",
        "        param1 = a\n",
        "        param2 = b\n",
        "  #Complete the function to obtain the plots and RMSE\n",
        "  plt.plot(all_bgdloss,all_ep)\n",
        "  minibatch_tr_loss=all_bgdloss\n",
        "  return sqrt(prevloss/len(X_test)),all_bgdloss,all_ep"
      ],
      "execution_count": 259,
      "outputs": []
    },
    {
      "cell_type": "code",
      "metadata": {
        "id": "4A7Xw9ZcBcp5"
      },
      "source": [
        "def stochastic_gd(X_train, y_train, X_test, y_test):\n",
        "  a = 10.0\n",
        "  b = -20.0\n",
        "\n",
        "  all_bgdloss = []\n",
        "  all_ep = []\n",
        "\n",
        "  rate = 0.02\n",
        "  start = time.time()\n",
        "  k = 1\n",
        "  for ep in range(1,100):\n",
        "    floss=0\n",
        "    for i in range(0, len(X_train)):\n",
        "      loss = 0\n",
        "      losst = 0\n",
        "      all_da = 0\n",
        "      all_db = 0\n",
        "      y_pred = a*X_train[i] + b\n",
        "      loss = loss + (y_train[i] - y_pred)*(y_train[i] - y_pred)/2\n",
        "      all_da = all_da + diffa(y_train[i], y_pred, X_train[i]) #gradients accumulated\n",
        "      all_db = all_db + diffb(y_train[i], y_pred) #gradients accumulated\n",
        "\n",
        "      #parameters updated\n",
        "      a = a - rate * all_da\n",
        "      b = b - rate * all_db\n",
        "    for i in range(0, len(X_train)):\n",
        "      y_pred = a*X_train[i] + b\n",
        "      floss = floss + (y_train[i] - y_pred)*(y_train[i] - y_pred)/2\n",
        "    all_bgdloss.append(floss/len(X_train))\n",
        "    all_ep.append(ep)\n",
        "\n",
        "    for i in range(0, len(X_test)):\n",
        "      y_pred = a*X_test[i] + b\n",
        "      losst = losst + (y_test[i] - y_pred)*(y_test[i] - y_pred)/2\n",
        "\n",
        "    #Saving best parameters for final reporting on test set   \n",
        "    if ep==1:\n",
        "      prevloss = losst\n",
        "    else:\n",
        "      if losst<prevloss:\n",
        "        prevloss=losst\n",
        "        param1 = a\n",
        "        param2 = b\n",
        "  #Complete the function to obtain the plots and RMSE\n",
        "  plt.plot(all_bgdloss,all_ep)\n",
        "  stochastic_tr_loss=all_bgdloss\n",
        "  return sqrt(prevloss/len(X_test)),all_bgdloss,all_ep"
      ],
      "execution_count": 263,
      "outputs": []
    },
    {
      "cell_type": "code",
      "metadata": {
        "id": "hDt2FmyfWo8q"
      },
      "source": [
        "def momentum_gd(X_train, y_train, X_test, y_test):\n",
        "  a = 0\n",
        "  b = 0\n",
        "\n",
        "  all_bgdloss = []\n",
        "  all_ep = []\n",
        "\n",
        "  gamma = 0.9\n",
        "  rate = 0.02\n",
        "  start = time.time()\n",
        "  k = 1\n",
        "  v0 = 0\n",
        "  v1 = 0\n",
        "  for ep in range(1,100):\n",
        "    floss=0\n",
        "    minibatches = create_mini_batches(X_train, y_train, 10)\n",
        "    for minibatch in minibatches:\n",
        "      loss = 0\n",
        "      losst = 0\n",
        "      all_da = 0\n",
        "      all_db = 0\n",
        "      tx, yp = minibatch\n",
        "      if(len(tx)==0):\n",
        "        continue\n",
        "      for i in range(0, len(tx)):\n",
        "        y_pred = a*tx[i] + b\n",
        "        loss = loss + (yp[i] - y_pred)*(yp[i] - y_pred)/2\n",
        "        all_da = all_da + diffa(yp[i], y_pred, tx[i]) #gradients accumulated\n",
        "        all_db = all_db + diffb(yp[i], y_pred) #gradients accumulated\n",
        "      loss = loss/len(tx)\n",
        "\n",
        "      #parameters updated\n",
        "      v0 = gamma*v0 + rate*all_da\n",
        "      v1 = gamma*v1 + rate*all_db\n",
        "      a = a - v0\n",
        "      b = b - v1\n",
        "    for i in range(0, len(X_train)):\n",
        "      y_pred = a*X_train[i] + b\n",
        "      floss = floss + (y_train[i] - y_pred)*(y_train[i] - y_pred)/2\n",
        "    all_bgdloss.append(floss/len(X_train))\n",
        "    all_ep.append(ep)\n",
        "\n",
        "    for i in range(0, len(X_test)):\n",
        "      y_pred = a*X_test[i] + b\n",
        "      losst = losst + (y_test[i] - y_pred)*(y_test[i] - y_pred)/2\n",
        "\n",
        "    #Saving best parameters for final reporting on test set   \n",
        "    if ep==1:\n",
        "      prevloss = losst\n",
        "    else:\n",
        "      if losst<prevloss:\n",
        "        prevloss=losst\n",
        "        param1 = a\n",
        "        param2 = b\n",
        "  #Complete the function to obtain the plots and RMSE\n",
        "  plt.plot(all_bgdloss,all_ep)\n",
        "  momentum_tr_loss=all_bgdloss\n",
        "  return sqrt(prevloss/len(X_test)),all_bgdloss,all_ep"
      ],
      "execution_count": 272,
      "outputs": []
    },
    {
      "cell_type": "code",
      "metadata": {
        "id": "DMFgRtKBfvEE"
      },
      "source": [
        "def adam_gd(X_train, y_train, X_test, y_test):\n",
        "  a = 0\n",
        "  b = 0\n",
        "\n",
        "  all_bgdloss = []\n",
        "  all_ep = []\n",
        "\n",
        "  gamma = 0.9\n",
        "  rate = 0.2\n",
        "  start = time.time()\n",
        "  k = 1\n",
        "  v0 = 0\n",
        "  v1 = 0\n",
        "  m0 = 0\n",
        "  m1 = 0\n",
        "  beta1 = 0.9\n",
        "  beta2 = 0.999\n",
        "  epsilon = 1e-8\n",
        "  for ep in range(1,100):\n",
        "    floss=0\n",
        "    minibatches = create_mini_batches(X_train, y_train, 10)\n",
        "    for minibatch in minibatches:\n",
        "      loss = 0\n",
        "      losst = 0\n",
        "      all_da = 0\n",
        "      all_db = 0\n",
        "      tx, yp = minibatch\n",
        "      if(len(tx)==0):\n",
        "        continue\n",
        "      for i in range(0, len(tx)):\n",
        "        y_pred = a*tx[i] + b\n",
        "        loss = loss + (yp[i] - y_pred)*(yp[i] - y_pred)/2\n",
        "        all_da = all_da + diffa(yp[i], y_pred, tx[i]) #gradients accumulated\n",
        "        all_db = all_db + diffb(yp[i], y_pred) #gradients accumulated\n",
        "      loss = loss/len(tx)\n",
        "\n",
        "      #parameters updated\n",
        "      m0 = beta1*m0 + (1 - beta1)*all_da\n",
        "      m1 = beta1*m1 + (1 - beta1)*all_db\n",
        "      v0 = beta2*v0 + (1 - beta2)*(all_da**2)\n",
        "      v1 = beta2*v1 + (1 - beta2)*(all_db**2)\n",
        "      m_hat0 = m0/(1 - beta1**k)\n",
        "      v_hat0 = v0/(1 - beta2**k)\n",
        "      m_hat1 = m1/(1 - beta1**k)\n",
        "      v_hat1 = v1/(1 - beta2**k)\n",
        "      a = a - rate*(m_hat0/(np.sqrt(v_hat0) - epsilon))\n",
        "      b = b - rate*(m_hat1/(np.sqrt(v_hat1) - epsilon))\n",
        "\n",
        "    for i in range(0, len(X_train)):\n",
        "      y_pred = a*X_train[i] + b\n",
        "      floss = floss + (y_train[i] - y_pred)*(y_train[i] - y_pred)/2\n",
        "    all_bgdloss.append(floss/len(X_train))\n",
        "    all_ep.append(ep)\n",
        "\n",
        "    for i in range(0, len(X_test)):\n",
        "      y_pred = a*X_test[i] + b\n",
        "      losst = losst + (y_test[i] - y_pred)*(y_test[i] - y_pred)/2\n",
        "\n",
        "    #Saving best parameters for final reporting on test set   \n",
        "    if ep==1:\n",
        "      prevloss = losst\n",
        "    else:\n",
        "      if losst<prevloss:\n",
        "        prevloss=losst\n",
        "        param1 = a\n",
        "        param2 = b\n",
        "  #Complete the function to obtain the plots and RMSE\n",
        "  plt.plot(all_bgdloss,all_ep)\n",
        "  return sqrt(prevloss/len(X_test)),all_bgdloss,all_ep"
      ],
      "execution_count": 273,
      "outputs": []
    },
    {
      "cell_type": "code",
      "metadata": {
        "id": "8BPARgSWiwvP"
      },
      "source": [
        "rmse_loss=[]"
      ],
      "execution_count": 274,
      "outputs": []
    },
    {
      "cell_type": "code",
      "metadata": {
        "id": "lPaRtXD87nD8",
        "outputId": "5f38fc5b-2dea-43ee-a5ec-495a53534083",
        "colab": {
          "base_uri": "https://localhost:8080/",
          "height": 265
        }
      },
      "source": [
        "rmse_batch,batch_tr_loss,n_batch=batch_gd(X_train, y_train, X_test, y_test)\n",
        "rmse_loss.append(rmse_batch)"
      ],
      "execution_count": 275,
      "outputs": [
        {
          "output_type": "display_data",
          "data": {
            "image/png": "[encoded data removed]",
            "text/plain": [
              "<Figure size 432x288 with 1 Axes>"
            ]
          },
          "metadata": {
            "tags": [],
            "needs_background": "light"
          }
        }
      ]
    },
    {
      "cell_type": "code",
      "metadata": {
        "id": "VlR1sOCOHDkt",
        "outputId": "e53525f0-103d-448e-b1fb-355a2864dcb6",
        "colab": {
          "base_uri": "https://localhost:8080/",
          "height": 265
        }
      },
      "source": [
        "rmse_minibatch,minibatch_tr_loss,n_minibatch=minibatch_gd(X_train, y_train, X_test, y_test)\n",
        "rmse_loss.append(rmse_minibatch)"
      ],
      "execution_count": 276,
      "outputs": [
        {
          "output_type": "display_data",
          "data": {
            "image/png": "[encoded data removed]",
            "text/plain": [
              "<Figure size 432x288 with 1 Axes>"
            ]
          },
          "metadata": {
            "tags": [],
            "needs_background": "light"
          }
        }
      ]
    },
    {
      "cell_type": "code",
      "metadata": {
        "id": "mRn8G5JsdrUe",
        "outputId": "794e4a35-be02-4ab3-debd-fbb2a8adb775",
        "colab": {
          "base_uri": "https://localhost:8080/",
          "height": 265
        }
      },
      "source": [
        "rmse_stochastic,stochastic_tr_loss,n_stochastic=stochastic_gd(X_train, y_train, X_test, y_test)\n",
        "rmse_loss.append(rmse_stochastic)"
      ],
      "execution_count": 277,
      "outputs": [
        {
          "output_type": "display_data",
          "data": {
            "image/png": "[encoded data removed]",
            "text/plain": [
              "<Figure size 432x288 with 1 Axes>"
            ]
          },
          "metadata": {
            "tags": [],
            "needs_background": "light"
          }
        }
      ]
    },
    {
      "cell_type": "code",
      "metadata": {
        "id": "XZdAW3Gmds_Q",
        "outputId": "e0244c88-3023-4ba4-a190-e3d18c9eb5eb",
        "colab": {
          "base_uri": "https://localhost:8080/",
          "height": 265
        }
      },
      "source": [
        "rmse_momentum,momentum_tr_loss,n_momentum=momentum_gd(X_train, y_train, X_test, y_test)\n",
        "rmse_loss.append(rmse_momentum)"
      ],
      "execution_count": 278,
      "outputs": [
        {
          "output_type": "display_data",
          "data": {
            "image/png": "[encoded data removed]",
            "text/plain": [
              "<Figure size 432x288 with 1 Axes>"
            ]
          },
          "metadata": {
            "tags": [],
            "needs_background": "light"
          }
        }
      ]
    },
    {
      "cell_type": "code",
      "metadata": {
        "id": "-T91rKcjdvK7",
        "outputId": "6377fec7-a261-4e7b-af16-cefd9cffe982",
        "colab": {
          "base_uri": "https://localhost:8080/",
          "height": 265
        }
      },
      "source": [
        "rmse_adam,adam_tr_loss,n_adam=adam_gd(X_train, y_train, X_test, y_test)\n",
        "rmse_loss.append(rmse_adam)"
      ],
      "execution_count": 279,
      "outputs": [
        {
          "output_type": "display_data",
          "data": {
            "image/png": "[encoded data removed]",
            "text/plain": [
              "<Figure size 432x288 with 1 Axes>"
            ]
          },
          "metadata": {
            "tags": [],
            "needs_background": "light"
          }
        }
      ]
    },
    {
      "cell_type": "code",
      "metadata": {
        "id": "Nke1TUYThVd_",
        "outputId": "7f2b7631-509e-4737-e3d1-6a6266b0d962",
        "colab": {
          "base_uri": "https://localhost:8080/",
          "height": 336
        }
      },
      "source": [
        "gd = ['Bath', 'Minibatch', 'Stochastic', 'Momentum', 'Adam']\n",
        "fig = plt.figure()\n",
        "ax = fig.add_axes([0,0,1,1])\n",
        "ax.bar(gd,rmse_loss)\n",
        "plt.show()"
      ],
      "execution_count": 280,
      "outputs": [
        {
          "output_type": "display_data",
          "data": {
            "image/png": "[encoded data removed]",
            "text/plain": [
              "<Figure size 432x288 with 1 Axes>"
            ]
          },
          "metadata": {
            "tags": [],
            "needs_background": "light"
          }
        }
      ]
    },
    {
      "cell_type": "code",
      "metadata": {
        "id": "D2MjaL3kjzm2",
        "outputId": "eb8d6881-6cd8-4406-ca28-41ab1176378c",
        "colab": {
          "base_uri": "https://localhost:8080/",
          "height": 295
        }
      },
      "source": [
        "num_epochs=range(100)\n",
        "plt.semilogy(n_batch, batch_tr_loss, label = 'Batch')\n",
        "plt.semilogy(n_minibatch, minibatch_tr_loss, label = 'MiniBatch')\n",
        "plt.semilogy(n_stochastic, stochastic_tr_loss, label = 'Stochastic')\n",
        "plt.semilogy(n_momentum, momentum_tr_loss, label = 'Momentum')\n",
        "plt.semilogy(n_adam, adam_tr_loss, label = 'Adam')\n",
        "plt.legend()\n",
        "plt.xlabel('epochs')\n",
        "plt.ylabel('training_loss')\n",
        "plt.title('Loss vs epochs for all optimisations')\n",
        "plt.show()"
      ],
      "execution_count": 281,
      "outputs": [
        {
          "output_type": "display_data",
          "data": {
            "image/png": "[encoded data removed]",
            "text/plain": [
              "<Figure size 432x288 with 1 Axes>"
            ]
          },
          "metadata": {
            "tags": [],
            "needs_background": "light"
          }
        }
      ]
    },
    {
      "cell_type": "code",
      "metadata": {
        "id": "trjxGzBWFe6N"
      },
      "source": [
        ""
      ],
      "execution_count": null,
      "outputs": []
    }
  ]
}